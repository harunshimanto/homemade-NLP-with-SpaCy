{
 "cells": [
  {
   "cell_type": "markdown",
   "metadata": {},
   "source": [
    "# Stop Words in SpaCy\n",
    "\n",
    "* A Stop word/Stop list.\n",
    "* Words filtered out before preprocessing.\n",
    "* Most common words.*"
   ]
  },
  {
   "cell_type": "markdown",
   "metadata": {},
   "source": [
    "![Imgur](https://i.imgur.com/0hREEzI.jpg)"
   ]
  },
  {
   "cell_type": "markdown",
   "metadata": {},
   "source": [
    "## Uses\n",
    "* Improve Performance in search engine\n",
    "* * eg how to perform sentiment analysis with spacy\n",
    "* Eliminating noise and distraction in sentiment classification\n",
    "* * Make ML learning faster due to less features\n",
    "* *"
   ]
  },
  {
   "cell_type": "code",
   "execution_count": 1,
   "metadata": {},
   "outputs": [],
   "source": [
    "import spacy\n",
    "nlp=spacy.load('en')"
   ]
  },
  {
   "cell_type": "code",
   "execution_count": 2,
   "metadata": {},
   "outputs": [],
   "source": [
    "from spacy.lang.en.stop_words import STOP_WORDS"
   ]
  },
  {
   "cell_type": "code",
   "execution_count": 3,
   "metadata": {},
   "outputs": [
    {
     "name": "stdout",
     "output_type": "stream",
     "text": [
      "{'been', 'as', 'give', 'however', \"'s\", 'very', 'other', 'onto', 'please', 'his', 'around', 'alone', 'before', 'above', 'ten', 'per', 'another', 'only', 'nine', 'or', 'at', 'could', 'anywhere', 'bottom', \"'m\", 'fifteen', 'last', 'nothing', 'everywhere', 'yours', 'below', 'sixty', 'what', 'whereas', 'after', 'moreover', 'therein', 'anyway', 'toward', 'three', 'but', 'seems', 'neither', 'six', 'may', 'full', 'many', 'if', 'its', 'four', \"'d\", 'quite', 'nobody', 'along', 'whereafter', 'further', 'beforehand', 'while', 'is', 'hereupon', 'within', 'never', 'then', 'next', 'regarding', 'you', 'herein', 'except', 'due', 'latter', 'everyone', 'ca', 'their', 'sometimes', 'fifty', 'go', 'call', 'her', 'me', 'we', 'whoever', 'those', 'ever', 'thereupon', 'still', 'beside', 'without', 'until', 'whom', 'others', 'indeed', 'under', 'out', 'ourselves', 'some', 'just', 'not', 'by', 'wherein', 'that', 'were', 'no', 'former', 'first', 'enough', 'yet', 'various', 'serious', 'already', 'well', 'will', 'him', 'seemed', 'whither', 'becomes', 'put', 'somewhere', 'down', 'all', 'against', 'both', 'towards', 'because', 'thence', 'an', 'across', 'a', 'perhaps', 'might', 'and', 'several', 'five', 'about', 'anyone', 'since', 'have', 'side', 'own', 'this', 'too', 'from', 'itself', 'had', \"n't\", 'much', 'using', 'eleven', 'none', 'hers', 'in', 'someone', 'there', 'seem', 'ours', \"'ve\", 'should', 'which', 'into', 'cannot', 'amount', 'twelve', 'thereby', 'so', 'when', 'else', 'forty', 'any', 'latterly', 'once', 'throughout', 'take', 'amongst', 'namely', 'being', 'somehow', 'behind', 'between', 'can', 'eight', 'something', 'anything', 'thru', 'himself', 'thus', 'off', 'almost', 'via', 'always', 'here', 'show', 'during', 'our', 'wherever', 'beyond', 'whence', 'who', 'upon', 'up', 'the', 'meanwhile', 'one', 'yourself', 'move', 'hundred', 'did', 'keep', 'elsewhere', 'was', 'become', 'used', 'rather', 'besides', 'for', 'us', 'done', 'how', \"'re\", 'also', 'they', 'whenever', 'became', 'to', 'where', 'same', 'top', 'name', 'thereafter', 'anyhow', 'hence', 'although', 'whereupon', 'every', 'more', 'formerly', 'it', 'whether', 'back', 'less', 'myself', 'must', 'hereafter', 'afterwards', 'most', 'hereby', 'yourselves', 'herself', 'get', 'nowhere', 'made', 'empty', 'seeming', 'even', 'nor', 'why', 'two', 'does', 'am', 'few', 'these', 'whatever', 'whole', 'together', 'them', 'see', 'make', 'than', 'whereby', 'over', 'though', 'again', 'be', 'each', 'mostly', 'part', 'really', 'with', 'do', 'front', 'least', 'has', 'often', 'through', 'noone', 'on', 'either', 'doing', 'sometime', 'of', 'third', 'unless', 'among', 'my', 'mine', 'she', 'now', 'i', 'otherwise', 'such', 'nevertheless', 'he', 'becoming', 'whose', 'everything', 'would', 'your', 'themselves', 're', 'twenty', 'say', \"'ll\", 'therefore', 'are'}\n"
     ]
    }
   ],
   "source": [
    "print(STOP_WORDS)"
   ]
  },
  {
   "cell_type": "code",
   "execution_count": 4,
   "metadata": {},
   "outputs": [
    {
     "data": {
      "text/plain": [
       "312"
      ]
     },
     "execution_count": 4,
     "metadata": {},
     "output_type": "execute_result"
    }
   ],
   "source": [
    "len(STOP_WORDS)"
   ]
  },
  {
   "cell_type": "code",
   "execution_count": 5,
   "metadata": {},
   "outputs": [
    {
     "data": {
      "text/plain": [
       "True"
      ]
     },
     "execution_count": 5,
     "metadata": {},
     "output_type": "execute_result"
    }
   ],
   "source": [
    "nlp.vocab[\"this\"].is_stop"
   ]
  },
  {
   "cell_type": "code",
   "execution_count": 6,
   "metadata": {},
   "outputs": [
    {
     "data": {
      "text/plain": [
       "False"
      ]
     },
     "execution_count": 6,
     "metadata": {},
     "output_type": "execute_result"
    }
   ],
   "source": [
    "nlp.vocab[\"theme\"].is_stop"
   ]
  },
  {
   "cell_type": "code",
   "execution_count": 7,
   "metadata": {},
   "outputs": [
    {
     "data": {
      "text/plain": [
       "True"
      ]
     },
     "execution_count": 7,
     "metadata": {},
     "output_type": "execute_result"
    }
   ],
   "source": [
    "nlp.vocab[\"a\"].is_stop"
   ]
  },
  {
   "cell_type": "code",
   "execution_count": 8,
   "metadata": {},
   "outputs": [],
   "source": [
    "mysentence=nlp(u\"This is a sentence about how to use stopwords in Natural language processing\")"
   ]
  },
  {
   "cell_type": "code",
   "execution_count": 9,
   "metadata": {},
   "outputs": [
    {
     "name": "stdout",
     "output_type": "stream",
     "text": [
      "Stop words Below that: \n",
      "This\n",
      "is\n",
      "a\n",
      "about\n",
      "how\n",
      "to\n",
      "in\n"
     ]
    }
   ],
   "source": [
    "print(\"Stop words Below that: \")\n",
    "for word in mysentence:\n",
    "    if word.is_stop==True:\n",
    "        print(word)"
   ]
  },
  {
   "cell_type": "code",
   "execution_count": 10,
   "metadata": {},
   "outputs": [
    {
     "name": "stdout",
     "output_type": "stream",
     "text": [
      "Non Stop words Below that: \n",
      "sentence\n",
      "use\n",
      "stopwords\n",
      "Natural\n",
      "language\n",
      "processing\n"
     ]
    }
   ],
   "source": [
    "print(\"Non Stop words Below that: \")\n",
    "for word in mysentence:\n",
    "    if word.is_stop==False:\n",
    "        print(word)"
   ]
  },
  {
   "cell_type": "code",
   "execution_count": 11,
   "metadata": {},
   "outputs": [
    {
     "name": "stdout",
     "output_type": "stream",
     "text": [
      "Non Stop words Below that: \n"
     ]
    },
    {
     "data": {
      "text/plain": [
       "[sentence, use, stopwords, Natural, language, processing]"
      ]
     },
     "execution_count": 11,
     "metadata": {},
     "output_type": "execute_result"
    }
   ],
   "source": [
    "print(\"Non Stop words Below that: \")\n",
    "[word for word in mysentence if word.is_stop == False]"
   ]
  },
  {
   "cell_type": "markdown",
   "metadata": {},
   "source": [
    "## Adding Your Stop Words "
   ]
  },
  {
   "cell_type": "code",
   "execution_count": 12,
   "metadata": {},
   "outputs": [],
   "source": [
    "STOP_WORDS.add(\"lol\")"
   ]
  },
  {
   "cell_type": "code",
   "execution_count": 13,
   "metadata": {},
   "outputs": [
    {
     "data": {
      "text/plain": [
       "True"
      ]
     },
     "execution_count": 13,
     "metadata": {},
     "output_type": "execute_result"
    }
   ],
   "source": [
    "nlp.vocab['lol'].is_stop"
   ]
  },
  {
   "cell_type": "code",
   "execution_count": 14,
   "metadata": {},
   "outputs": [],
   "source": [
    "STOP_WORDS.add(\"uwlc\")"
   ]
  },
  {
   "cell_type": "code",
   "execution_count": 15,
   "metadata": {},
   "outputs": [
    {
     "data": {
      "text/plain": [
       "True"
      ]
     },
     "execution_count": 15,
     "metadata": {},
     "output_type": "execute_result"
    }
   ],
   "source": [
    "nlp.vocab['uwlc'].is_stop"
   ]
  },
  {
   "cell_type": "markdown",
   "metadata": {},
   "source": [
    "#  Thanks for reading this notebook.Keep In Touch With Us.Like Our Page [DataScience.AI ](https://urlzs.com/fya7)"
   ]
  }
 ],
 "metadata": {
  "hide_input": false,
  "kernelspec": {
   "display_name": "Python 3",
   "language": "python",
   "name": "python3"
  },
  "language_info": {
   "codemirror_mode": {
    "name": "ipython",
    "version": 3
   },
   "file_extension": ".py",
   "mimetype": "text/x-python",
   "name": "python",
   "nbconvert_exporter": "python",
   "pygments_lexer": "ipython3",
   "version": "3.7.0"
  },
  "toc": {
   "base_numbering": 1,
   "nav_menu": {},
   "number_sections": false,
   "sideBar": true,
   "skip_h1_title": false,
   "title_cell": "Table of Contents",
   "title_sidebar": "Contents",
   "toc_cell": false,
   "toc_position": {},
   "toc_section_display": true,
   "toc_window_display": false
  },
  "varInspector": {
   "cols": {
    "lenName": 16,
    "lenType": 16,
    "lenVar": 40
   },
   "kernels_config": {
    "python": {
     "delete_cmd_postfix": "",
     "delete_cmd_prefix": "del ",
     "library": "var_list.py",
     "varRefreshCmd": "print(var_dic_list())"
    },
    "r": {
     "delete_cmd_postfix": ") ",
     "delete_cmd_prefix": "rm(",
     "library": "var_list.r",
     "varRefreshCmd": "cat(var_dic_list()) "
    }
   },
   "types_to_exclude": [
    "module",
    "function",
    "builtin_function_or_method",
    "instance",
    "_Feature"
   ],
   "window_display": false
  }
 },
 "nbformat": 4,
 "nbformat_minor": 2
}
