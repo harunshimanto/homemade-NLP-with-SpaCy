{
 "cells": [
  {
   "cell_type": "markdown",
   "metadata": {},
   "source": [
    "# Lemmatizing \n",
    "\n",
    "* Text Normalization \n",
    "* Word inflection == syntactic differences between word forms.\n",
    "* Reducing a word to its base/root form.\n",
    "* Lemmatizing **\n",
    "*  * a word based on its intended meaning \n",
    "* Stemming \n",
    "* * Cutting of the prefixes/suffices to reduce a word to base form."
   ]
  },
  {
   "cell_type": "code",
   "execution_count": 2,
   "metadata": {},
   "outputs": [],
   "source": [
    "import spacy "
   ]
  },
  {
   "cell_type": "code",
   "execution_count": 3,
   "metadata": {},
   "outputs": [],
   "source": [
    "nlp=spacy.load('en')"
   ]
  },
  {
   "cell_type": "code",
   "execution_count": 3,
   "metadata": {},
   "outputs": [],
   "source": [
    "docx = nlp(\"study studying studious studio student \")"
   ]
  },
  {
   "cell_type": "code",
   "execution_count": 6,
   "metadata": {},
   "outputs": [
    {
     "name": "stdout",
     "output_type": "stream",
     "text": [
      "Word =>  study Lemmatizing => study Part of speech :  NOUN\n",
      "Word =>  studying Lemmatizing => study Part of speech :  VERB\n",
      "Word =>  studious Lemmatizing => studious Part of speech :  ADJ\n",
      "Word =>  studio Lemmatizing => studio Part of speech :  NOUN\n",
      "Word =>  student Lemmatizing => student Part of speech :  NOUN\n"
     ]
    }
   ],
   "source": [
    "for word in docx:\n",
    "    print(\"Word => \", word.text,  \"Lemmatizing =>\", word.lemma_,\"Part of speech : \", word.pos_)"
   ]
  },
  {
   "cell_type": "code",
   "execution_count": 4,
   "metadata": {},
   "outputs": [],
   "source": [
    "docx1=nlp(\"Walking walks walk walker\")"
   ]
  },
  {
   "cell_type": "code",
   "execution_count": 6,
   "metadata": {},
   "outputs": [
    {
     "name": "stdout",
     "output_type": "stream",
     "text": [
      "Word =>  Walking Lemmatizing => walking Part of speech :  NOUN\n",
      "Word =>  walks Lemmatizing => walk Part of speech :  NOUN\n",
      "Word =>  walk Lemmatizing => walk Part of speech :  VERB\n",
      "Word =>  walker Lemmatizing => walker Part of speech :  NOUN\n"
     ]
    }
   ],
   "source": [
    "for word in docx1:\n",
    "    print(\"Word => \", word.text,  \"Lemmatizing =>\", word.lemma_,\"Part of speech : \", word.pos_)"
   ]
  },
  {
   "cell_type": "code",
   "execution_count": 4,
   "metadata": {},
   "outputs": [],
   "source": [
    "docx2=nlp(\"good goods run running runner runny was be were \")"
   ]
  },
  {
   "cell_type": "code",
   "execution_count": 5,
   "metadata": {},
   "outputs": [
    {
     "name": "stdout",
     "output_type": "stream",
     "text": [
      "Word =>  good Lemmatizing => good Part of speech :  ADJ\n",
      "Word =>  goods Lemmatizing => good Part of speech :  NOUN\n",
      "Word =>  run Lemmatizing => run Part of speech :  VERB\n",
      "Word =>  running Lemmatizing => run Part of speech :  VERB\n",
      "Word =>  runner Lemmatizing => runner Part of speech :  NOUN\n",
      "Word =>  runny Lemmatizing => runny Part of speech :  NOUN\n",
      "Word =>  was Lemmatizing => be Part of speech :  VERB\n",
      "Word =>  be Lemmatizing => be Part of speech :  VERB\n",
      "Word =>  were Lemmatizing => be Part of speech :  VERB\n"
     ]
    }
   ],
   "source": [
    "for word in docx2:\n",
    "    print(\"Word => \", word.text,  \"Lemmatizing =>\", word.lemma_,\"Part of speech : \", word.pos_)"
   ]
  },
  {
   "cell_type": "markdown",
   "metadata": {},
   "source": [
    "#  Thanks for reading this notebook.Keep In Touch With Us.Like Our Page [Quantum.ai](https://www.facebook.com/Quantumaibd)"
   ]
  }
 ],
 "metadata": {
  "hide_input": false,
  "kernelspec": {
   "display_name": "Python 3",
   "language": "python",
   "name": "python3"
  },
  "language_info": {
   "codemirror_mode": {
    "name": "ipython",
    "version": 3
   },
   "file_extension": ".py",
   "mimetype": "text/x-python",
   "name": "python",
   "nbconvert_exporter": "python",
   "pygments_lexer": "ipython3",
   "version": "3.7.0"
  },
  "toc": {
   "base_numbering": 1,
   "nav_menu": {},
   "number_sections": false,
   "sideBar": true,
   "skip_h1_title": false,
   "title_cell": "Table of Contents",
   "title_sidebar": "Contents",
   "toc_cell": false,
   "toc_position": {},
   "toc_section_display": true,
   "toc_window_display": false
  },
  "varInspector": {
   "cols": {
    "lenName": 16,
    "lenType": 16,
    "lenVar": 40
   },
   "kernels_config": {
    "python": {
     "delete_cmd_postfix": "",
     "delete_cmd_prefix": "del ",
     "library": "var_list.py",
     "varRefreshCmd": "print(var_dic_list())"
    },
    "r": {
     "delete_cmd_postfix": ") ",
     "delete_cmd_prefix": "rm(",
     "library": "var_list.r",
     "varRefreshCmd": "cat(var_dic_list()) "
    }
   },
   "types_to_exclude": [
    "module",
    "function",
    "builtin_function_or_method",
    "instance",
    "_Feature"
   ],
   "window_display": false
  }
 },
 "nbformat": 4,
 "nbformat_minor": 2
}
